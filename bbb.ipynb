{
 "cells": [
  {
   "cell_type": "code",
   "execution_count": 32,
   "metadata": {},
   "outputs": [
    {
     "name": "stdout",
     "output_type": "stream",
     "text": [
      "4\n",
      "2\n",
      "456\n"
     ]
    }
   ],
   "source": [
    "import re \n",
    "content = 'Hello 1234567 hahah 123 lalal 456'\n",
    "res = re.match('^Hello.*3(\\d).*1(\\d).*\\s(\\d+).*',content)\n",
    "print(res.group(1))\n",
    "print(res.group(2))\n",
    "print(res.group(3))"
   ]
  },
  {
   "cell_type": "code",
   "execution_count": 36,
   "metadata": {},
   "outputs": [
    {
     "name": "stdout",
     "output_type": "stream",
     "text": [
      "4\n",
      "2\n",
      "456\n"
     ]
    }
   ],
   "source": [
    "import re \n",
    "content = 'Hello 1234567 hahah 123 lalal 456'\n",
    "res = re.match('^Hello.*(\\d)\\d{3}\\s.*(\\d)\\d\\s.*?(\\d+)',content)\n",
    "print(res.group(1))\n",
    "print(res.group(2))\n",
    "print(res.group(3))"
   ]
  },
  {
   "cell_type": "code",
   "execution_count": 37,
   "metadata": {},
   "outputs": [
    {
     "name": "stdout",
     "output_type": "stream",
     "text": [
      "[\"javascript:Q.login(function(){Q.setIndexLoginInfo('Q_loginBar1')});void(0)\", \"javascript:Q.login(function(){Q.setIndexLoginInfo('Q_loginBar1')});void(0)\", \"javascript:Q.login(function(){Q.setIndexLoginInfo('Q_loginBar1')});void(0)\", 'http://17k.com/', 'http://www.17k.com/', 'http://top.17k.com/', 'http://all.17k.com/lib/book.html', 'http://zhuanti.17k.com/subject/2017dsip/pc/index.html', 'http://www.17k.com/man/', 'http://mm.17k.com/', 'http://www.17k.com/gexing/', 'http://www.17k.com/adaptation/index.html', 'http://www.17k.com/mianfei/', 'http://www.17k.com/quanben/', 'http://bbs.17k.com', 'http://www.17k.com/download/', 'http://wan.17k.com/jump/nyfpl71', '', '', '', '', '', '', 'http://www.17k.com/book/2772164.html', 'http://www.17k.com/book/2656756.html', 'http://www.17k.com/book/2802084.html', 'http://www.17k.com/book/2807943.html', 'http://www.17k.com/book/2755398.html', 'http://www.17k.com/book/2706486.html', 'http://www.17k.com/book/2797996.html', 'http://www.17k.com/book/2801193.html', 'http://www.17k.com/book/2822876.html', 'http://www.17k.com/book/2743719.html', 'http://www.17k.com/book/2595425.html', 'http://www.17k.com/book/2791019.html', 'http://www.17k.com/book/2809119.html', 'http://www.17k.com/book/2828415.html', 'http://www.17k.com/book/2825591.html', 'http://www.17k.com/book/2816001.html', 'http://www.17k.com/book/2809108.html', 'http://www.17k.com/book/27346.html', 'http://www.17k.com/book/1974174.html', 'http://www.17k.com/book/1788565.html', '', '', '', '', '', '', '', '', '', '', '', '', '', '', '', '', '', '', '', '', '', '', '', '', '', '', '', '', '', '', '', '', '', 'http://www.17k.com/book/2730138.html', 'http://www.17k.com/book/2458377.html', 'http://www.17k.com/book/2625216.html', 'http://www.17k.com/book/2294650.html', '', '', '', '', 'http://www.17k.com/book/2765875.html', 'http://www.17k.com/book/1988718.html', 'http://www.17k.com/book/2696655.html', 'http://www.17k.com/book/2687997.html', 'http://www.17k.com/book/2705895.html', 'http://www.17k.com/book/2801193.html', 'http://www.17k.com/book/2758326.html', 'http://www.17k.com/book/2467789.html', 'http://www.17k.com/book/2657437.html', 'http://www.17k.com/book/2790130.html', 'http://top.17k.com/top/top100/06_vipclick/06_vipclick_new_top_100_pc.html', '', '', '', '', 'http://www.17k.com/book/2499007.html', 'http://www.17k.com/book/2588297.html', 'http://www.17k.com/book/2739770.html', 'http://www.17k.com/book/2705181.html', 'http://www.17k.com/book/2774824.html', 'http://www.17k.com/book/2265802.html', 'http://www.17k.com/book/2802129.html', 'http://www.17k.com/book/2807148.html', 'http://www.17k.com/book/2763659.html', 'http://www.17k.com/book/2756607.html', 'http://www.17k.com/book/2592742.html', 'http://www.17k.com/book/2790714.html', '', '', '', 'http://yc.ireader.com.cn/', 'http://www.19lou.com', 'http://www.xiang5.com/', 'http://book.qq.com/', 'http://www.zongheng.com/', 'http://read.jd.com/', 'http://www.xuexila.com/', 'http://www.kuaikanmanhua.com/', 'http://www.zhulang.com', 'http://www.4yt.net', 'http://www.offcn.com', 'http://chuangshi.qq.com/', 'http://www.ximalaya.com/explore/', 'http://book.114la.com/', 'http://www.tiexue.net', 'http://zixun.jia.com', 'http://www.u148.net', 'http://b.faloo.com/', 'http://www.sxcnw.net', 'http://www.docin.com/', 'http://www.zhaoxiaoshuo.com/', 'http://www.shuhai.com/', 'http://www.zuowen.com/', 'http://www.bayueju.com/', 'http://www.3366.com/', 'http://www.91wan.com/', 'http://www.kanshu.com/', 'http://tt.mop.com/', 'http://www.9ku.com/', 'http://www.52pk.com/', 'http://www.baike.com/', 'http://www.hongshu.com/', 'http://www.wed114.cn', 'http://www.t262.com/', 'http://www.xiazaiba.com/', 'http://www.999.com/', 'http://www.hengyan.com/', 'http://www.17k.com/aboutus/link.html', 'http://www.17k.com/aboutus/', 'http://www.17k.com/aboutus/Cooperation.html', 'http://www.17k.com/aboutus/link.html', 'http://www.17k.com/Simple/contents/helpCenter/helpCenter.htm', 'http://www.17k.com/Simple/contents/login/Rdme.html', 'http://www.17k.com/about/sitemap.html', 'http://www.17k.com/recruitment/index.html', 'http://code.17k.com/']\n"
     ]
    },
    {
     "data": {
      "text/plain": [
       "[]"
      ]
     },
     "execution_count": 37,
     "metadata": {},
     "output_type": "execute_result"
    }
   ],
   "source": [
    "import requests\n",
    "\n",
    "b= requests.get('http://www.17k.com/')\n",
    "\n",
    "from lxml import etree\n",
    "\n",
    "tree = etree.HTML(b.text)\n",
    "\n",
    "c=tree.xpath('//div/a[@href]/@href')\n",
    "\n",
    "print(c)\n",
    "\n",
    "import requests\n",
    "\n",
    "b= requests.get('http://www.17k.com/')\n",
    "\n",
    "tree.xpath('/html/body/img')\n"
   ]
  },
  {
   "cell_type": "code",
   "execution_count": null,
   "metadata": {},
   "outputs": [],
   "source": []
  },
  {
   "cell_type": "code",
   "execution_count": null,
   "metadata": {},
   "outputs": [],
   "source": []
  }
 ],
 "metadata": {
  "kernelspec": {
   "display_name": "Python 3",
   "language": "python",
   "name": "python3"
  },
  "language_info": {
   "codemirror_mode": {
    "name": "ipython",
    "version": 3
   },
   "file_extension": ".py",
   "mimetype": "text/x-python",
   "name": "python",
   "nbconvert_exporter": "python",
   "pygments_lexer": "ipython3",
   "version": "3.6.4"
  }
 },
 "nbformat": 4,
 "nbformat_minor": 2
}
